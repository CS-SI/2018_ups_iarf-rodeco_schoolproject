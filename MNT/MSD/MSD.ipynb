{
 "cells": [
  {
   "cell_type": "markdown",
   "metadata": {},
   "source": [
    "## Pré-traitements"
   ]
  },
  {
   "cell_type": "markdown",
   "metadata": {},
   "source": [
    "Import des librairies nécessaires"
   ]
  },
  {
   "cell_type": "code",
   "execution_count": 1,
   "metadata": {},
   "outputs": [],
   "source": [
    "import pptk\n",
    "import numpy as np\n",
    "import matplotlib.pyplot as plt\n",
    "from netCDF4 import Dataset\n",
    "from scipy.interpolate import griddata\n",
    "from scipy.ndimage import gaussian_filter"
   ]
  },
  {
   "cell_type": "markdown",
   "metadata": {},
   "source": [
    "Import du DSM"
   ]
  },
  {
   "cell_type": "code",
   "execution_count": 2,
   "metadata": {},
   "outputs": [],
   "source": [
    "# récupération des altitudes au format d[x,y] = altitude\n",
    "\n",
    "\n",
    "dataset = Dataset('data.nc')\n",
    "d = dataset.variables['altitude'][0:225,0:225]\n",
    "s = d.shape\n",
    "\n",
    "# Pour utiliser pptk.viewer les data sont mises sous formes points3D = [x,y,altitude]\n",
    "# les points qui n'ont pas d'altitude ont une valeur abérante (9,36... e36)\n",
    "# on garde donc seulement les valeurs inférieures à 100 000\n",
    "# ensuite pour utiliser scipy.griddata on doit séparer les couples coordonnées des altitudes:\n",
    "# points[i] = [Xi,Yi] et value[i] = ALTITUDEi\n",
    "\n",
    "pointcloud =[]\n",
    "points =[]\n",
    "values =[]\n",
    "for i in range(0,s[0]):\n",
    "    for j in range(0,s[1]):\n",
    "        if d[i,j] < 100000:\n",
    "            pointcloud.append([i,j,d[i,j]])\n",
    "            points.append([i,j])\n",
    "            values.append(d[i,j])\n",
    "\n",
    "# visualisation du nuage de points avant interpolation des valeurs manquantes -> DSM\n",
    "v = pptk.viewer(pointcloud)"
   ]
  },
  {
   "cell_type": "markdown",
   "metadata": {},
   "source": [
    "Interpolation des valeurs manquantes"
   ]
  },
  {
   "cell_type": "code",
   "execution_count": 3,
   "metadata": {},
   "outputs": [],
   "source": [
    "grid_x, grid_y = np.mgrid[0:s[0]-1:1, 0:s[1]-1:1]\n",
    "interpolated_grid = griddata(points, values, (grid_x, grid_y), method='cubic')\n",
    "#plt.imshow(interpolated_grid.T, extent=(0,1,0,1), origin='lower')\n",
    "\n",
    "s_interpolated = interpolated_grid.shape\n",
    "interpolated_pointcloud =[]\n",
    "for i in range(0,s_interpolated[0]):\n",
    "    for j in range(0,s_interpolated[1]):\n",
    "            interpolated_pointcloud.append([i,j,interpolated_grid[i,j]])\n",
    "            \n",
    "# visualisation du nuage de points après interpolation des valeurs manquantes -> DSM\n",
    "v2 = pptk.viewer(interpolated_pointcloud)"
   ]
  },
  {
   "cell_type": "markdown",
   "metadata": {},
   "source": [
    "## MSD"
   ]
  },
  {
   "cell_type": "markdown",
   "metadata": {},
   "source": [
    "Paramètres"
   ]
  },
  {
   "cell_type": "code",
   "execution_count": 4,
   "metadata": {},
   "outputs": [],
   "source": [
    "# Seuil de difference de hauteur en mètre\n",
    "dThrHeightDiff = 3\n",
    "# Seuil de difference de pente en degrès\n",
    "dThrSlope = 30\n",
    "# taille de la fenetre glissante d'analyse\n",
    "iExt = 91\n",
    "# sigma pour noyau gaussien\n",
    "sig = 27"
   ]
  },
  {
   "cell_type": "markdown",
   "metadata": {},
   "source": [
    "Variables"
   ]
  },
  {
   "cell_type": "code",
   "execution_count": 19,
   "metadata": {},
   "outputs": [],
   "source": [
    "# direction des lignes de selection, seulement les directions partant d'en haut à gauche vers en bas à droite\n",
    "scanlines_direction = [[1,0],[1,1],[0,1],[1,-1]]\n",
    "# stockage des labels\n",
    "# labels[i,j] = nb_vote_exclusion\n",
    "# il y a 8 scanlines, donc 8 votants, si oLabel[i,j] > 5 alors le pixel (i,j) est conservé car\n",
    "# considéré comme un point du sol\n",
    "oLabel = np.zeros((s_interpolated[0],s_interpolated[1]))\n",
    "# DSM\n",
    "oDSM = interpolated_grid\n",
    "# DSM smooth\n",
    "oDSMs= gaussian_filter(oDSM,sigma=sig,mode='nearest')\n",
    "# X = [-(iExt-1)/2:+(iExt-1)/2] utilité ?\n",
    "X = np.arange((-1*(iExt-1)/2),((iExt-1)/2),1)"
   ]
  },
  {
   "cell_type": "markdown",
   "metadata": {},
   "source": [
    "Fonction de récupération des voisins d'un pixel selon une direction donnée (iX et iY sont les décalage donnant la direction)"
   ]
  },
  {
   "cell_type": "code",
   "execution_count": null,
   "metadata": {},
   "outputs": [],
   "source": [
    "def getNeigh(oDSM,x,y,iX,iY,iExt):\n",
    "    values = [oDSM[x,y]]\n",
    "    nbValues = int((iExt-1)/2)\n",
    "    for i in range(1,nbValues,1):\n",
    "        if x+i*iX < s[0]-1 and y+i*iY < s[1]-1 and x+i*iX >= 0 and y+i*iY >= 0:\n",
    "            values.append(oDSM[x+i*iX,y+i*iY])\n",
    "        if x-i*iX >= 0 and y-i*iY >= 0 and x-i*iX < s[0]-1 and y-i*iY < s[1]-1:\n",
    "            values.append(oDSM[x-i*iX,y-i*iY])\n",
    "    return values"
   ]
  },
  {
   "cell_type": "markdown",
   "metadata": {},
   "source": [
    "Fonction éxécutant le DSM"
   ]
  },
  {
   "cell_type": "code",
   "execution_count": 24,
   "metadata": {},
   "outputs": [],
   "source": [
    "def DSM_one_pass(oDSM,oDSMs,scanlines_direction,iExt,oLabel,dThrHeightDiff,dThrSlope):\n",
    "    s = oDSM.shape\n",
    "    for [iX,iY] in scanlines_direction:\n",
    "        for x in range(0,s[0]-1):\n",
    "            for y in range(0,s[1]-1):\n",
    "                # local height difference\n",
    "                oDSMDiff = oDSM[x,y] - oDSM[x+iX,y+iY]\n",
    "                # local terrain slope\n",
    "                oDSMsDiff = oDSMs[x,y] - oDSMs[x+iX,y+iY]\n",
    "                # get neightborhood (our filter extend)\n",
    "                #oNeigh = oDSM[x+oExtX[iDir],y+oExtY[iDir]]\n",
    "                oNeigh = getNeigh(oDSM,x,y,iX,iY,iExt)\n",
    "                # slope corrected height values\n",
    "                oNeighCorr = oNeigh + oDSMs[x,y]\n",
    "                # slope corrected minimal terrain value\n",
    "                oMinNeigh = min(oNeighCorr)\n",
    "                # difference to minimum\n",
    "                dHeightDiff = oDSM[x,y] - oMinNeigh\n",
    "                if dHeightDiff > dThrHeightDiff: \n",
    "                    # pixel is non-ground\n",
    "                    oLabel[x,y] = oLabel[x,y] #on ajoute rien\n",
    "                else:\n",
    "                    # slope corrected height difference\n",
    "                    dDelta = oDSMDiff - oDSMsDiff\n",
    "                    dSignDelta = -np.sign(dDelta)\n",
    "                    dSlopeLocal = np.arctan2(np.absolute(dDelta),1)*180/np.pi\n",
    "                    # slope corrected angle\n",
    "                    dSlope = dSlopeLocal*dSignDelta\n",
    "                    if dSlope > dThrSlope :\n",
    "                        # pixel is non-ground\n",
    "                        oLabel[x,y] = oLabel[x,y] #on ajoute rien\n",
    "                    else: \n",
    "                        # assign as last label\n",
    "                        # pas bon car reporte tout les votes en oLabel[x-iX,y-iY]\n",
    "                        oLabel[x,y] = oLabel[x-iX,y-iY]\n",
    "                    if dSlope < 0:\n",
    "                        # pixel is ground\n",
    "                        oLabel[x,y] = oLabel[x,y] + 1\n",
    "    return oLabel"
   ]
  },
  {
   "cell_type": "markdown",
   "metadata": {},
   "source": [
    "Main"
   ]
  },
  {
   "cell_type": "code",
   "execution_count": 25,
   "metadata": {
    "scrolled": true
   },
   "outputs": [
    {
     "name": "stdout",
     "output_type": "stream",
     "text": [
      "[[  1.   2.   0. ...   1.   1.   0.]\n",
      " [  1.   2.   0. ... 116.  94.  96.]\n",
      " [  1.   2.   3. ...  94.  96.  97.]\n",
      " ...\n",
      " [ 97.  96.  94. ...   3.   2.   1.]\n",
      " [ 96.  94. 116. ...   0.   2.   1.]\n",
      " [  0.   1.   1. ...   0.   2.   1.]]\n"
     ]
    },
    {
     "data": {
      "text/plain": [
       "<matplotlib.image.AxesImage at 0x181b8d6438>"
      ]
     },
     "execution_count": 25,
     "metadata": {},
     "output_type": "execute_result"
    },
    {
     "data": {
      "image/png": "[encoded data removed]",
      "text/plain": [
       "<matplotlib.figure.Figure at 0x181b8377f0>"
      ]
     },
     "metadata": {},
     "output_type": "display_data"
    }
   ],
   "source": [
    "oLabel = DSM_one_pass(oDSM,oDSMs,scanlines_direction,iExt,oLabel,dThrHeightDiff,dThrSlope)\n",
    "# pour faire le second passage avec les direction allant d'en bas à droite vers en haut à gauche, \n",
    "# on fait un rotation de 180° du DSM et du DSM smoothed ensuite on ajoute à la première passe le oLabel que l'on\n",
    "# transformera en le faisant tourner de 180°\n",
    "oDSM = np.rot90(np.rot90(oDSM))\n",
    "oDSMs = np.rot90(np.rot90(oDSMs))\n",
    "oLabel = oLabel + np.rot90(np.rot90(DSM_one_pass(oDSM,oDSMs,scanlines_direction,iExt,oLabel,dThrHeightDiff,dThrSlope)))\n",
    "print(oLabel)\n",
    "filtre = np.zeros(oLabel.shape)\n",
    "filtre = oLabel>=4\n",
    "plt.imshow(filtre)"
   ]
  }
 ],
 "metadata": {
  "kernelspec": {
   "display_name": "Python 3",
   "language": "python",
   "name": "python3"
  },
  "language_info": {
   "codemirror_mode": {
    "name": "ipython",
    "version": 3
   },
   "file_extension": ".py",
   "mimetype": "text/x-python",
   "name": "python",
   "nbconvert_exporter": "python",
   "pygments_lexer": "ipython3",
   "version": "3.6.4"
  }
 },
 "nbformat": 4,
 "nbformat_minor": 2
}
